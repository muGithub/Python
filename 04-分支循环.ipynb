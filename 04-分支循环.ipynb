{
 "cells": [
  {
   "cell_type": "markdown",
   "metadata": {},
   "source": [
    "# 三大结构\n",
    "* 顺序\n",
    "* 分支\n",
    "* 循环\n",
    "\n",
    "# 分支\n",
    "* 分支的基本语法\n",
    "        if 条件表达式：\n",
    "            语句1\n",
    "            语句2\n",
    "            语句3\n",
    "            ......\n",
    "* 条件表达式就是计算结果必须为布尔值的表达式\n",
    "* 表达式后面的冒号不能少\n",
    "* 注意if后面出现的语句，如果属于if语句块，则必须同一个缩进等级\n",
    "* 条件表达式结果为True执行if后面的缩进的语句块\n",
    "\n"
   ]
  },
  {
   "cell_type": "code",
   "execution_count": 6,
   "metadata": {},
   "outputs": [
    {
     "name": "stdout",
     "output_type": "stream",
     "text": [
      "Call their parents\n",
      "We can't play with you\n",
      "get out\n"
     ]
    }
   ],
   "source": [
    "# if语句练习\n",
    "# 如果age小于18岁，则打印信息“去叫家长”\n",
    "age = 17\n",
    "if age < 18:\n",
    "    print(\"Call their parents\")\n",
    "    print(\"We can't play with you\")\n",
    "    print(\"get out\")"
   ]
  },
  {
   "cell_type": "code",
   "execution_count": 11,
   "metadata": {},
   "outputs": [
    {
     "name": "stdout",
     "output_type": "stream",
     "text": [
      "Starting the class\n"
     ]
    }
   ],
   "source": [
    "# if语句练习\n",
    "# 如果age小于18岁，则打印信息“去叫家长”\n",
    "age = 19\n",
    "if age < 18:\n",
    "    print(\"Call their parents\")\n",
    "    print(\"We can't play with you\")\n",
    "    print(\"get out\")\n",
    "    \n",
    "print(\"Starting the class\")"
   ]
  },
  {
   "cell_type": "code",
   "execution_count": 1,
   "metadata": {},
   "outputs": [
    {
     "name": "stdout",
     "output_type": "stream",
     "text": [
      "今天学习for循环\n",
      "开始讲for循环\n"
     ]
    }
   ],
   "source": [
    "print(\"今天学习for循环\")\n",
    "gender= \"男\"\n",
    "if gender == \"女\":\n",
    "    print(\"Treat you candies\")\n",
    "\n",
    "print(\"开始讲for循环\")"
   ]
  },
  {
   "cell_type": "markdown",
   "metadata": {},
   "source": [
    "### 双向分支\n",
    "* if ...else...语句\n",
    "        if 条件表达式：\n",
    "            语句1\n",
    "            语句2\n",
    "            ...\n",
    "        else：\n",
    "            语句1\n",
    "            语句2\n",
    "            ...\n",
    "            \n",
    "* 双向分支有两个分支，当程序执行到if...else...语句的时候，一定会执行if或else...语句的时候，一定会执行也仅执行其中一个\n",
    "* 缩进问题，if和else一个层级，其余语句一个层级"
   ]
  },
  {
   "cell_type": "code",
   "execution_count": 1,
   "metadata": {},
   "outputs": [
    {
     "name": "stdout",
     "output_type": "stream",
     "text": [
      "请输入性别：nan\n",
      "你输入的性别是：nan\n",
      "来，代码多敲几遍\n",
      "开始上课\n"
     ]
    }
   ],
   "source": [
    "# input 的作用是\n",
    "# 1.在屏幕上输出括号内的字符串\n",
    "# 2.接受用户输入的内容并返回到程序\n",
    "# 3.input返回的内容一定是字符串类型\n",
    "gender = input(\"请输入性别：\")\n",
    "print(\"你输入的性别是：{0}\".format(gender))\n",
    "\n",
    "if gender == \"nan\":\n",
    "    print(\"来，代码多敲几遍\")\n",
    "else:\n",
    "    print(\"发糖\")\n",
    "        \n",
    "print(\"开始上课\")"
   ]
  },
  {
   "cell_type": "code",
   "execution_count": 6,
   "metadata": {},
   "outputs": [
    {
     "name": "stdout",
     "output_type": "stream",
     "text": [
      "请输入学生成绩：50\n",
      "Get out\n"
     ]
    }
   ],
   "source": [
    "# 考试成绩\n",
    "# 90以上：输出优秀\n",
    "# 80-90： 良\n",
    "# 70-80： 中\n",
    "# 60-70： 平\n",
    "# 60一下： 你不是我学生\n",
    "\n",
    "#score 存放学生成绩\n",
    "score = input(\"请输入学生成绩：\")\n",
    "# 需要把str转换成int\n",
    "score = int (score)\n",
    "\n",
    "if score>=90:\n",
    "    print(\"A\")\n",
    "if score>=80 and score<90:\n",
    "    print(\"B\")\n",
    "if score>=70 and score<80:\n",
    "    print(\"C\")\n",
    "if score>=60 and score<70:\n",
    "    print(\"D\")\n",
    "if score<60:\n",
    "    print(\"Get out\")"
   ]
  },
  {
   "cell_type": "markdown",
   "metadata": {},
   "source": [
    "## 多路分支\n",
    "* 很多分支的情况：简称多路分支\n",
    "        if 条件表达式：\n",
    "            语句1\n",
    "            ...\n",
    "        elif 条件表达式：\n",
    "            语句1\n",
    "            ...\n",
    "        elif 条件表达式：\n",
    "            语句1\n",
    "            ...\n",
    "        \n",
    "        ......\n",
    "        else:\n",
    "            语句1\n",
    "            ...\n",
    "            \n",
    "elif 可以有很多个\n",
    "else 可选\n",
    "* 多路分支只会选一个执行\n",
    "            "
   ]
  },
  {
   "cell_type": "code",
   "execution_count": 12,
   "metadata": {},
   "outputs": [
    {
     "name": "stdout",
     "output_type": "stream",
     "text": [
      "请输入学生成绩：90\n",
      "A\n"
     ]
    }
   ],
   "source": [
    "#score 存放学生成绩\n",
    "score = input(\"请输入学生成绩：\")\n",
    "# 需要把str转换成int\n",
    "score = int (score)\n",
    "\n",
    "if score>=90:\n",
    "    print(\"A\")\n",
    "elif score>=80:\n",
    "    print(\"B\")\n",
    "elif score>=70:\n",
    "    print(\"C\")\n",
    "elif score>=60:\n",
    "    print(\"D\")\n",
    "elif score<60:\n",
    "    print(\"Get out\")"
   ]
  },
  {
   "cell_type": "markdown",
   "metadata": {},
   "source": [
    "## if 语句其他：\n",
    "* if语句可以嵌套使用，但不推荐\n",
    "* Python没有switch-case\n",
    "\n",
    "# 循环语句\n",
    "* 重复执行某些固定动作或者处理基本固定的事物\n",
    "* 分类\n",
    "    * for循环\n",
    "    * while循环\n",
    "## for循环\n",
    "* for循环\n",
    "\n",
    "        for 变量 in 序列：\n",
    "            语句1\n",
    "            语句2\n",
    "            ...\n",
    "            \n"
   ]
  },
  {
   "cell_type": "code",
   "execution_count": 14,
   "metadata": {},
   "outputs": [
    {
     "name": "stdout",
     "output_type": "stream",
     "text": [
      "zhangsan\n",
      "lisi\n",
      "wangwu\n",
      "jingjing\n"
     ]
    }
   ],
   "source": [
    "# 列表就是一列数字或者其他的值，一般用中括号表示\n",
    "#例如 ['zhangsan', 'lisi','wangwu','jingjing']\n",
    "\n",
    "# 打印学生列表姓名\n",
    "for name in ['zhangsan', 'lisi','wangwu','jingjing']:\n",
    "    print(name)"
   ]
  },
  {
   "cell_type": "code",
   "execution_count": 17,
   "metadata": {},
   "outputs": [
    {
     "name": "stdout",
     "output_type": "stream",
     "text": [
      "zhangsan\n",
      "refuse,take care\n",
      "lisi\n",
      "refuse,take care\n",
      "wangwu\n",
      "refuse,take care\n",
      "jingjing\n",
      "My love jingjing is coming\n"
     ]
    }
   ],
   "source": [
    "# 打印学生列表姓名\n",
    "# 如是jingjing，输出\n",
    "#否则，拒绝\n",
    "for name in ['zhangsan', 'lisi','wangwu','jingjing']:\n",
    "    print(name)\n",
    "    if name == \"jingjing\":\n",
    "        print(\"My love {0} is coming\".format(name))\n",
    "    else:\n",
    "        print(\"refuse,take care\")\n",
    "        "
   ]
  },
  {
   "cell_type": "markdown",
   "metadata": {},
   "source": [
    "## range介绍\n",
    "* 生成一个数字序列\n",
    "* 具体范围可以设定\n"
   ]
  },
  {
   "cell_type": "code",
   "execution_count": 19,
   "metadata": {},
   "outputs": [
    {
     "name": "stdout",
     "output_type": "stream",
     "text": [
      "1\n",
      "2\n",
      "3\n",
      "4\n",
      "5\n",
      "6\n",
      "7\n",
      "8\n",
      "9\n",
      "10\n"
     ]
    }
   ],
   "source": [
    "# range练习\n",
    "# 打印从1-10的数字\n",
    "# 注意，一般在Python中，如果表示数字范围的两个数，一般包含左边的数，不包含右边的数字\n",
    "#ranint是特例， 它左右都包含\n",
    "#range函数在Python2和Python3中有严格区别\n",
    "for i in range(1,11):\n",
    "    print(i)"
   ]
  },
  {
   "cell_type": "markdown",
   "metadata": {},
   "source": [
    "## for-else语句\n",
    "* 当for循环结束的时候，会执行else语句\n",
    "* else语句是可选的"
   ]
  },
  {
   "cell_type": "code",
   "execution_count": 21,
   "metadata": {},
   "outputs": [
    {
     "name": "stdout",
     "output_type": "stream",
     "text": [
      "zhangsan\n",
      "refuse,take care\n",
      "lisi\n",
      "refuse,take care\n",
      "wangwu\n",
      "refuse,take care\n",
      "jingjing\n",
      "My love jingjing is coming\n",
      "Not my students\n"
     ]
    }
   ],
   "source": [
    "# for-else语句\n",
    "# 打印列表中的同学\n",
    "# 如果没有在列表中，或者列表结束了，我们要打印提示语句\n",
    "\n",
    "# 打印学生列表姓名\n",
    "# 如是jingjing，输出\n",
    "#否则，拒绝\n",
    "for name in ['zhangsan', 'lisi','wangwu','jingjing']:\n",
    "    print(name)\n",
    "    if name == \"jingjing\":\n",
    "        print(\"My love {0} is coming\".format(name))\n",
    "    else:\n",
    "        print(\"refuse,take care\")\n",
    "else:\n",
    "    print(\"Not my students\")"
   ]
  },
  {
   "cell_type": "markdown",
   "metadata": {},
   "source": [
    "## for循环之break，continue,pass\n",
    "* break：无条件结束整个循环\n",
    "* continue：无条件结束本次循环，重新进入下一轮\n",
    "* pass：表示略过，通常用于占位"
   ]
  },
  {
   "cell_type": "code",
   "execution_count": 24,
   "metadata": {},
   "outputs": [
    {
     "name": "stdout",
     "output_type": "stream",
     "text": [
      "1\n",
      "2\n",
      "3\n",
      "4\n",
      "5\n",
      "6\n",
      "I find it\n"
     ]
    }
   ],
   "source": [
    "# 在1-10的数字钟，如果是数字7，打印，否则，结束\n",
    "# for 循环中的变量表示，一般用i,k,m,n或者indx,idx,item之类\n",
    "# 在Python中，如果循环变量名称不重要，可以用下划线_代替\n",
    "for i in range(1,11):\n",
    "    if i == 7:\n",
    "        print(\"I find it\")\n",
    "        break\n",
    "    else:\n",
    "         print(i)"
   ]
  },
  {
   "cell_type": "code",
   "execution_count": 25,
   "metadata": {},
   "outputs": [
    {
     "name": "stdout",
     "output_type": "stream",
     "text": [
      "2是偶数\n",
      "4是偶数\n",
      "6是偶数\n",
      "8是偶数\n",
      "10是偶数\n"
     ]
    }
   ],
   "source": [
    "# continue语句练习\n",
    "# 在1-10的数字钟，如果是偶数，打印，否则，结束\n",
    "\n",
    "for i in range(1,11):\n",
    "    if i%2 == 1:\n",
    "        continue\n",
    "    else:\n",
    "         print(\"{0}是偶数\".format(i))"
   ]
  },
  {
   "cell_type": "code",
   "execution_count": 27,
   "metadata": {},
   "outputs": [
    {
     "name": "stdout",
     "output_type": "stream",
     "text": [
      "1是偶数\n",
      "3是偶数\n",
      "5是偶数\n",
      "7是偶数\n",
      "9是偶数\n"
     ]
    }
   ],
   "source": [
    "# continue语句练习 版本2\n",
    "# 在1-10的数字钟，如果是偶数，打印，否则，结束\n",
    "\n",
    "for i in range(1,11):\n",
    "    if i%2 == 1:\n",
    "         print(\"{0}是偶数\".format(i))"
   ]
  },
  {
   "cell_type": "code",
   "execution_count": 29,
   "metadata": {},
   "outputs": [
    {
     "name": "stdout",
     "output_type": "stream",
     "text": [
      "2是偶数\n",
      "4是偶数\n",
      "6是偶数\n",
      "8是偶数\n",
      "10是偶数\n"
     ]
    }
   ],
   "source": [
    "# continue语句练习 版本3\n",
    "# 在1-10的数字钟，如果是偶数，打印，否则，结束\n",
    "# 本案例完整显示continue的用法和作用\n",
    "for i in range(1,11):\n",
    "    if i%2 == 1:\n",
    "        continue\n",
    "    print(\"{0}是偶数\".format(i))"
   ]
  },
  {
   "cell_type": "code",
   "execution_count": 31,
   "metadata": {},
   "outputs": [
    {
     "name": "stdout",
     "output_type": "stream",
     "text": [
      "1\n",
      "2\n",
      "3\n",
      "4\n",
      "5\n",
      "6\n",
      "7\n",
      "8\n",
      "9\n",
      "10\n"
     ]
    }
   ],
   "source": [
    "# pass例子，一般用于占位\n",
    "# pass没有跳过功能\n",
    "\n",
    "for i in range(1,11):\n",
    "    pass\n",
    "    print(i)"
   ]
  }
 ],
 "metadata": {
  "kernelspec": {
   "display_name": "Python 3",
   "language": "python",
   "name": "python3"
  },
  "language_info": {
   "codemirror_mode": {
    "name": "ipython",
    "version": 3
   },
   "file_extension": ".py",
   "mimetype": "text/x-python",
   "name": "python",
   "nbconvert_exporter": "python",
   "pygments_lexer": "ipython3",
   "version": "3.6.3"
  }
 },
 "nbformat": 4,
 "nbformat_minor": 2
}
