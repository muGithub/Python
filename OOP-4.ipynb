{
 "cells": [
  {
   "cell_type": "code",
   "execution_count": 3,
   "metadata": {},
   "outputs": [
    {
     "name": "stdout",
     "output_type": "stream",
     "text": [
      "Hi, i'm LIUYING\n",
      "Hi, i'm MICHI\n"
     ]
    }
   ],
   "source": [
    "# 属性示例\n",
    "# 创建Student类，描述学生类\n",
    "# 学生具有Student，那么属性\n",
    "# 但name格式并不统一\n",
    "# 可以\n",
    "class Student():\n",
    "    def __init__(self,name,age):\n",
    "        self.name = name\n",
    "        self.age = age\n",
    "        \n",
    "        # 如果不想修改代码\n",
    "        self.setName(name)\n",
    "        \n",
    "    # 介绍下自己\n",
    "    def intro(self):\n",
    "        print(\"Hi, i'm {0}\".format(self.name))\n",
    "        \n",
    "    def setName(self, name):\n",
    "        self.name = name.upper()\n",
    "        \n",
    "    \n",
    "s1 = Student(\"liuying\", 22)\n",
    "s2 = Student(\"michi\", 23)\n",
    "\n",
    "s1.intro()\n",
    "s2.intro()\n",
    "\n"
   ]
  },
  {
   "cell_type": "code",
   "execution_count": 1,
   "metadata": {
    "collapsed": true
   },
   "outputs": [],
   "source": [
    "# property示例\n",
    "# 定义一个Person类，具有name，age属性\n",
    "# 对于任意输入的姓名，我么希望都用大写方式保存\n",
    "# 年龄，我们希望内部统一用整数保存\n",
    "# x = property(fget, fset, fdel, doc)\n",
    "class Person():\n",
    "    # 函数的名称可以任意\n",
    "    def fget(self):\n",
    "        print(\"III\")\n",
    "        return self._name * 2\n",
    "    \n",
    "    def fset(self,name):\n",
    "        # 所有输入的姓名一大些形式保存\n",
    "        self._name = name.upper()\n",
    "        \n",
    "    def fdel(self):\n",
    "        self._name = \"NoName\"\n",
    "    name = property(fget, fset, fdel, \"对name进行操作\")\n",
    "\n"
   ]
  },
  {
   "cell_type": "code",
   "execution_count": 2,
   "metadata": {
    "scrolled": true
   },
   "outputs": [
    {
     "name": "stdout",
     "output_type": "stream",
     "text": [
      "III\n",
      "TULINGTULING\n"
     ]
    }
   ],
   "source": [
    "p1 = Person()\n",
    "p1.name = \"TuLing\"\n",
    "print(p1.name)\n"
   ]
  },
  {
   "cell_type": "code",
   "execution_count": 10,
   "metadata": {
    "collapsed": true
   },
   "outputs": [],
   "source": [
    "# 作业\n",
    "# 1.在用户输入年龄的时候，可以输入整数，小数，浮点数\n",
    "# 2.但内部为了数据清洁，我们统一需要保存整数，直接舍去小数点\n",
    "class Person():\n",
    "    # 函数的名称可以任意\n",
    "    def fget(self):\n",
    "        print(\"III\")\n",
    "        return self._name * 2\n",
    "    \n",
    "    def fset(self,name):\n",
    "        # 所有输入的姓名一大些形式保存\n",
    "        self._name = name.upper()\n",
    "        \n",
    "    def fdel(self):\n",
    "        self._name = \"NoName\"\n",
    "    name = property(fget, fset, fdel, \"对name进行操作\")\n",
    "'''\n",
    "class Student():\n",
    "    # 函数的名称可以任意\n",
    "    def fget1(self):\n",
    "        print(\"III\")\n",
    "        return self._age * 2\n",
    "    \n",
    "    def fset1(self,age):\n",
    "        # 所有输入的姓名一大些形式保存\n",
    "        print(\"ddd\")\n",
    "        self._age = int(age)\n",
    "        \n",
    "    def fdel1(self):\n",
    "        self._age = \"Noage\"\n",
    "        print(\"ccc\")\n",
    "    age = property(fget1, fset1, fdel1, \"对age进行操作\")\n",
    "\n",
    "'''\n",
    "class Student():\n",
    "    '''\n",
    "    这是一个说明文档，说明了什么内容自己添加\n",
    "    '''\n",
    "    # 函数的名称可以任意\n",
    "    def fget(self):\n",
    "        print(\"III\")\n",
    "        return self._name\n",
    "    \n",
    "    def fset(self,name):\n",
    "        # 所有输入的姓名一大些形式保存\n",
    "        self._name = int(name)\n",
    "        \n",
    "    def fdel(self):\n",
    "        self._name = \"NoName\"\n",
    "    name = property(fget, fset, fdel, \"对name进行操作\")\n",
    "    \n",
    "  "
   ]
  },
  {
   "cell_type": "code",
   "execution_count": 11,
   "metadata": {},
   "outputs": [
    {
     "name": "stdout",
     "output_type": "stream",
     "text": [
      "III\n",
      "45\n",
      "III\n",
      "TULINGTULING\n"
     ]
    }
   ],
   "source": [
    "p2 = Student()\n",
    "p2.name = 45.6\n",
    "print(p2.name)\n",
    "\n",
    "p1 = Person()\n",
    "p1.name = \"TuLing\"\n",
    "print(p1.name)"
   ]
  },
  {
   "cell_type": "code",
   "execution_count": 17,
   "metadata": {},
   "outputs": [
    {
     "name": "stdout",
     "output_type": "stream",
     "text": [
      "\n",
      "    这是一个说明文档，说明了什么内容自己添加\n",
      "    \n",
      "{'__module__': '__main__', '__doc__': '\\n    这是一个说明文档，说明了什么内容自己添加\\n    ', 'fget': <function Student.fget at 0x7f26f00cbea0>, 'fset': <function Student.fset at 0x7f26f00cb730>, 'fdel': <function Student.fdel at 0x7f26f00cb6a8>, 'name': <property object at 0x7f26f006d9f8>, '__dict__': <attribute '__dict__' of 'Student' objects>, '__weakref__': <attribute '__weakref__' of 'Student' objects>}\n",
      "Student\n",
      "(<class 'object'>,)\n"
     ]
    }
   ],
   "source": [
    "print(Student.__doc__)\n",
    "print(Student.__dict__)\n",
    "print(Student.__name__)\n",
    "print(Student.__bases__)"
   ]
  },
  {
   "cell_type": "code",
   "execution_count": 20,
   "metadata": {
    "scrolled": true
   },
   "outputs": [
    {
     "name": "stdout",
     "output_type": "stream",
     "text": [
      "Haha\n"
     ]
    }
   ],
   "source": [
    "#  init 举例\n",
    "class A():\n",
    "    def __init__(self, name = 0):\n",
    "        print(\"Haha\")\n",
    "        \n",
    "a = A()"
   ]
  },
  {
   "cell_type": "code",
   "execution_count": 24,
   "metadata": {},
   "outputs": [
    {
     "name": "stdout",
     "output_type": "stream",
     "text": [
      "Haha\n",
      "I'm haha again\n"
     ]
    }
   ],
   "source": [
    "# __call__ 示例\n",
    "class A():\n",
    "    def __init__(self, name = 0):\n",
    "        print(\"Haha\")\n",
    "        \n",
    "    def __call__(self):\n",
    "        print(\"I'm haha again\")\n",
    "        \n",
    "a = A()\n",
    "a()"
   ]
  },
  {
   "cell_type": "code",
   "execution_count": 30,
   "metadata": {},
   "outputs": [
    {
     "name": "stdout",
     "output_type": "stream",
     "text": [
      "Haha\n",
      "<class '__main__.A'>\n",
      "I'm a str\n"
     ]
    }
   ],
   "source": [
    "# __str__ 示例\n",
    "class A():\n",
    "    def __init__(self, name = 0):\n",
    "        print(\"Haha\")\n",
    "        \n",
    "    def __call__(self):\n",
    "        print(\"I'm haha again\")\n",
    "        \n",
    "    def __str__(self):\n",
    "        return(\"I'm a str\")\n",
    "\n",
    "a = A()\n",
    "print(type(a))\n",
    "print(a)"
   ]
  },
  {
   "cell_type": "code",
   "execution_count": 34,
   "metadata": {},
   "outputs": [
    {
     "name": "stdout",
     "output_type": "stream",
     "text": [
      "NoName\n",
      "unexist\n",
      "sdf\n",
      "None\n"
     ]
    }
   ],
   "source": [
    "# __getattr__ 示例\n",
    "class A():\n",
    "    name = \"NoName\"\n",
    "    age = 19\n",
    "    def __getattr__(self, name):\n",
    "        print(\"unexist\")\n",
    "        print(name)\n",
    "        \n",
    "a = A()\n",
    "print(a.name)\n",
    "print(a.sdf)"
   ]
  },
  {
   "cell_type": "code",
   "execution_count": 47,
   "metadata": {},
   "outputs": [
    {
     "name": "stdout",
     "output_type": "stream",
     "text": [
      "{}\n",
      "设置属性：age\n"
     ]
    }
   ],
   "source": [
    "# __setattr__ 示例\n",
    "class Person():\n",
    "    def __init__(self):\n",
    "        pass\n",
    "    \n",
    "    def __setattr__(self, name, value):\n",
    "        print(\"设置属性：{0}\".format(name))\n",
    "        # 下面语句会导致问题，死循环\n",
    "        # self.name = value\n",
    "        # 此种情况，为了避免死循环，规定统一调用父类魔法函数\n",
    "        super().__setattr__(name, value)\n",
    "        \n",
    "        \n",
    "        \n",
    "p = Person()\n",
    "print(p.__dict__)\n",
    "p.age = 18"
   ]
  },
  {
   "cell_type": "code",
   "execution_count": 55,
   "metadata": {},
   "outputs": [
    {
     "name": "stdout",
     "output_type": "stream",
     "text": [
      "haha,one大于two?\n",
      "False\n"
     ]
    }
   ],
   "source": [
    "# __gt__\n",
    "\n",
    "class Student():\n",
    "    def __init__(self, name):\n",
    "        self._name = name\n",
    "        \n",
    "    def __gt__(self, obj):\n",
    "        print(\"haha,{0}大于{1}?\".format(self._name, obj._name))\n",
    "        return self._name>obj._name\n",
    "    \n",
    "stu1 = Student(\"one\")\n",
    "stu2 = Student(\"two\")\n",
    "print(stu1>stu2)\n"
   ]
  },
  {
   "cell_type": "code",
   "execution_count": 73,
   "metadata": {},
   "outputs": [
    {
     "name": "stdout",
     "output_type": "stream",
     "text": [
      "sdf\n",
      "haha...\n",
      "<__main__.Person object at 0x7f26db76ab38>\n",
      "haha...\n",
      "<class '__main__.Person'>\n",
      "Playying....\n",
      "<class '__main__.Person'>\n",
      "Playying....\n",
      "Saying....\n",
      "Saying....\n"
     ]
    }
   ],
   "source": [
    "# 三种方法的示例\n",
    "\n",
    "class Person:\n",
    "    # 实例方法\n",
    "    def eat(self):\n",
    "        print(self)\n",
    "        print(\"haha...\")\n",
    "        \n",
    "    # 类方法\n",
    "    # 类方法的第一个参数，一般命名为cls，区别于self\n",
    "    @classmethod\n",
    "    def play(cls):\n",
    "        print(cls)\n",
    "        print(\"Playying....\")\n",
    "        \n",
    "        \n",
    "    # 静态方法\n",
    "    # 不需要用第一个参数表示自身或者类\n",
    "    @staticmethod\n",
    "    def say():\n",
    "        print(\"Saying....\")\n",
    "        \n",
    "        \n",
    "xiawen = Person()\n",
    "\n",
    "# 实例方法\n",
    "\n",
    "Person.eat(\"sdf\")\n",
    "xiawen.eat()\n",
    "# 类方法\n",
    "Person.play()\n",
    "xiawen.play()\n",
    "# 静态方法\n",
    "Person.say()\n",
    "xiawen.say()\n"
   ]
  },
  {
   "cell_type": "code",
   "execution_count": null,
   "metadata": {
    "collapsed": true
   },
   "outputs": [],
   "source": []
  }
 ],
 "metadata": {
  "celltoolbar": "Edit Metadata",
  "kernelspec": {
   "display_name": "Python 3",
   "language": "python",
   "name": "python3"
  },
  "language_info": {
   "codemirror_mode": {
    "name": "ipython",
    "version": 3
   },
   "file_extension": ".py",
   "mimetype": "text/x-python",
   "name": "python",
   "nbconvert_exporter": "python",
   "pygments_lexer": "ipython3",
   "version": "3.6.3"
  }
 },
 "nbformat": 4,
 "nbformat_minor": 2
}
