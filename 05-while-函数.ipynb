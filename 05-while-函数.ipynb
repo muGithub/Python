{
 "cells": [
  {
   "cell_type": "markdown",
   "metadata": {},
   "source": [
    "# while循环\n",
    "* 一个循环语句\n",
    "* 表示当某条件成立的时候，就循环\n",
    "* 不知道具体循环次数，但能确定循环的成立条件的时候用while循环\n",
    "* while语法：\n",
    "        \n",
    "        while 条件表达式：\n",
    "            语句块\n",
    "            \n",
    "        # 另外一种表达方法\n",
    "        while 条件表达式：\n",
    "            语句块1\n",
    "        else：\n",
    "            语句块2"
   ]
  },
  {
   "cell_type": "code",
   "execution_count": 2,
   "metadata": {},
   "outputs": [
    {
     "name": "stdout",
     "output_type": "stream",
     "text": [
      "第1年拿了10670.0块钱\n",
      "第2年拿了11384.89块钱\n",
      "第3年拿了12147.677629999998块钱\n",
      "第4年拿了12961.572031209998块钱\n",
      "第5年拿了13829.997357301068块钱\n",
      "第6年拿了14756.607180240238块钱\n",
      "第7年拿了15745.299861316334块钱\n",
      "第8年拿了16800.23495202453块钱\n",
      "第9年拿了17925.85069381017块钱\n",
      "第10年拿了19126.88269029545块钱\n",
      "第11年拿了20408.383830545245块钱\n"
     ]
    }
   ],
   "source": [
    "# 如果说年利率是6.7%，本利每年翻滚，则多少年后本钱会翻倍\n",
    "\n",
    "benqian = 10000\n",
    "year = 0\n",
    "while benqian< 20000:\n",
    "    benqian = benqian*(1.067)\n",
    "    year += 1 # year = year + 1\n",
    "    print(\"第{0}年拿了{1}块钱\".format(year,benqian))"
   ]
  },
  {
   "cell_type": "code",
   "execution_count": 4,
   "metadata": {},
   "outputs": [
    {
     "name": "stdout",
     "output_type": "stream",
     "text": [
      "第1年拿了10670.0块钱\n",
      "第2年拿了11384.89块钱\n",
      "第3年拿了12147.677629999998块钱\n",
      "第4年拿了12961.572031209998块钱\n",
      "第5年拿了13829.997357301068块钱\n",
      "第6年拿了14756.607180240238块钱\n",
      "第7年拿了15745.299861316334块钱\n",
      "第8年拿了16800.23495202453块钱\n",
      "第9年拿了17925.85069381017块钱\n",
      "第10年拿了19126.88269029545块钱\n",
      "第11年拿了20408.383830545245块钱\n",
      "Finally\n"
     ]
    }
   ],
   "source": [
    "# 如果说年利率是6.7%，本利每年翻滚，则多少年后本钱会翻倍\n",
    "# 如果翻倍，则庆祝\n",
    "benqian = 10000\n",
    "year = 0\n",
    "while benqian< 20000:\n",
    "    benqian = benqian*(1.067)\n",
    "    year += 1 # year = year + 1\n",
    "    print(\"第{0}年拿了{1}块钱\".format(year,benqian))\n",
    "else:\n",
    "    print(\"Finally\")"
   ]
  },
  {
   "cell_type": "markdown",
   "metadata": {},
   "source": [
    "# 函数\n",
    "* 代码的一种组织形式\n",
    "* 一个函数一般完成一项特定的功能\n",
    "* 函数的使用\n",
    "    * 函数需要先定义\n",
    "    * 使用函数，俗称调用\n",
    "    "
   ]
  },
  {
   "cell_type": "code",
   "execution_count": 6,
   "metadata": {
    "collapsed": true
   },
   "outputs": [],
   "source": [
    "# 定义一个函数\n",
    "# 只是定义的话不会执行\n",
    "# 1.def关键字，后跟一个空格\n",
    "# 2.hanshu ming ,自己定义，起名需要遵循使用命名规则，约定俗成，大驼峰命名只给类用\n",
    "# 3.后面括号和冒号不能省，括号内可以有参数\n",
    "# 4.函数内所有代码都缩进\n",
    "def function():\n",
    "    print(\"I'm a func\")\n",
    "    print(\"I'll finish a func\")\n",
    "    print(\"I'll finish\")\n",
    "    "
   ]
  },
  {
   "cell_type": "code",
   "execution_count": 8,
   "metadata": {},
   "outputs": [
    {
     "name": "stdout",
     "output_type": "stream",
     "text": [
      "I'm a func\n",
      "I'll finish a func\n",
      "I'll finish\n"
     ]
    }
   ],
   "source": [
    "# 函数的调用\n",
    "# 直接函数名后面跟括号\n",
    "function()"
   ]
  },
  {
   "cell_type": "markdown",
   "metadata": {},
   "source": [
    "### 函数的参数和返回值\n",
    "* 参数：负责给函数传递一些必要的数据或者信息\n",
    "    * 形参（形式参数）：在函数定义的时候用到的参数没有具体值，只是一个占位的符号，成为形参\n",
    "    * 实参（实际参数）：在调用函数的时候输入的值\n",
    "* 返回值：函数的执行结果\n",
    "    * 使用return关键字\n",
    "    * 如果没有return，默认返回一个None\n",
    "    * 函数一旦执行return语句，则无条件返回，结束"
   ]
  },
  {
   "cell_type": "code",
   "execution_count": null,
   "metadata": {
    "collapsed": true
   },
   "outputs": [],
   "source": []
  },
  {
   "cell_type": "code",
   "execution_count": 10,
   "metadata": {},
   "outputs": [
    {
     "name": "stdout",
     "output_type": "stream",
     "text": [
      "月亮,how are you\n",
      "Sir, I'll leave if you don't give me response\n"
     ]
    }
   ],
   "source": [
    "# 参数的定义和使用\n",
    "# 参数person只是一个符号，代表的是调用的时候的某一个数据\n",
    "# 调用的时候，会用p的值代替函数中所有的person\n",
    "def hello(person):\n",
    "    print(\"{0},how are you\".format(person))\n",
    "    print(\"Sir, I'll leave if you don't give me response\")\n",
    "    \n",
    "p = \"月亮\"\n",
    "hello(p)"
   ]
  },
  {
   "cell_type": "code",
   "execution_count": 13,
   "metadata": {},
   "outputs": [
    {
     "name": "stdout",
     "output_type": "stream",
     "text": [
      "月亮,how are you\n",
      "Sir, I'll leave if you don't give me response\n",
      "我已经和月亮打完招呼了，月亮不理我\n"
     ]
    }
   ],
   "source": [
    "# return语句的基本使用\n",
    "# 函数打完招呼后返回一句话\n",
    "\n",
    "def hello(person):\n",
    "    print(\"{0},how are you\".format(person))\n",
    "    print(\"Sir, I'll leave if you don't give me response\")\n",
    "    return \"我已经和{0}打完招呼了，{1}不理我\".format(person,person)\n",
    "\n",
    "p = \"月亮\"\n",
    "result = hello(p)\n",
    "print(result)"
   ]
  },
  {
   "cell_type": "code",
   "execution_count": 18,
   "metadata": {},
   "outputs": [
    {
     "name": "stdout",
     "output_type": "stream",
     "text": [
      "月亮,how are you\n",
      "我提前结束\n"
     ]
    }
   ],
   "source": [
    "# return案例2\n",
    "\n",
    "def hello(person):\n",
    "    print(\"{0},how are you\".format(person))\n",
    "    return \"我提前结束\"\n",
    "    print(\"Sir, I'll leave if you don't give me response\")\n",
    "    return \"我已经和{0}打完招呼了，{1}不理我\".format(person,person)\n",
    "\n",
    "p = \"月亮\"\n",
    "result = hello(p)\n",
    "print(result)"
   ]
  },
  {
   "cell_type": "code",
   "execution_count": 19,
   "metadata": {},
   "outputs": [
    {
     "name": "stdout",
     "output_type": "stream",
     "text": [
      "Help on built-in function print in module builtins:\n",
      "\n",
      "print(...)\n",
      "    print(value, ..., sep=' ', end='\\n', file=sys.stdout, flush=False)\n",
      "    \n",
      "    Prints the values to a stream, or to sys.stdout by default.\n",
      "    Optional keyword arguments:\n",
      "    file:  a file-like object (stream); defaults to the current sys.stdout.\n",
      "    sep:   string inserted between values, default a space.\n",
      "    end:   string appended after the last value, default a newline.\n",
      "    flush: whether to forcibly flush the stream.\n",
      "\n"
     ]
    }
   ],
   "source": [
    "# 查找函数帮助文档\n",
    "# 1.用help函数\n",
    "help(print)"
   ]
  },
  {
   "cell_type": "code",
   "execution_count": 35,
   "metadata": {},
   "outputs": [
    {
     "name": "stdout",
     "output_type": "stream",
     "text": [
      "1 ------------\n",
      "2 4 ------------\n",
      "3 6 9 ------------\n",
      "4 8 12 16 ------------\n",
      "5 10 15 20 25 ------------\n",
      "6 12 18 24 30 36 ------------\n",
      "7 14 21 28 35 42 49 ------------\n",
      "8 16 24 32 40 48 56 64 ------------\n",
      "9 18 27 36 45 54 63 72 81 ------------\n"
     ]
    }
   ],
   "source": [
    "# 九九乘法表\n",
    "\n",
    "for row in range(1,10):\n",
    "    # 打印一行\n",
    "    for line in range(1,row+1):\n",
    "        print(row*line, end = ' ')\n",
    "    print(\"------------\")"
   ]
  },
  {
   "cell_type": "code",
   "execution_count": 37,
   "metadata": {},
   "outputs": [
    {
     "name": "stdout",
     "output_type": "stream",
     "text": [
      "1 \n",
      "2 4 \n",
      "3 6 9 \n",
      "4 8 12 16 \n",
      "5 10 15 20 25 \n",
      "6 12 18 24 30 36 \n",
      "7 14 21 28 35 42 49 \n",
      "8 16 24 32 40 48 56 64 \n",
      "9 18 27 36 45 54 63 72 81 \n"
     ]
    }
   ],
   "source": [
    "# 定义一个函数，打印一行九九乘法表\n",
    "def printLine(row):\n",
    "    for line in range(1,row+1):\n",
    "        print(row*line, end = ' ')\n",
    "    print(\"\")\n",
    "    \n",
    "# 九九乘法表\n",
    "#version 2.0\n",
    "for row in range(1,10):\n",
    "    printLine(row)"
   ]
  },
  {
   "cell_type": "markdown",
   "metadata": {},
   "source": [
    "## 参数详解\n",
    "* [参考资料]（https://www.cnblogs.com/bingabcd/p/6671368.html)\n",
    "* Python参考资料： headfirst python -> 零基础入门学习Python（小甲鱼） -->习题-->后期可以考虑腾讯公开免费课\n",
    "* 参数分类\n",
    "    * 普通参数\n",
    "    * 默认参数\n",
    "    * 关键字参数\n",
    "    * 收集参数\n",
    "* 普通参数\n",
    "    * 参数上例子\n",
    "    * 定义的时候直接定义变量名\n",
    "    * 调用的时候直接把变量或者值放入指定位置\n",
    "    \n",
    "            def 函数名(参数1，参数2，...)\n",
    "                函数体\n",
    "                \n",
    "            # 调用\n",
    "            函数名（value1, value2,......)\n",
    "            \n",
    "            # 调用的时候，具体参考的是位置，按位置赋值\n",
    "            \n",
    "            \n",
    "* 默认参数\n",
    "    * 形参带有默认值\n",
    "    * 调用时，如果没有对相应的形参赋值，则使用默认值\n",
    "    \n",
    "            def func_name(p1=v1, p2=v2...):\n",
    "                func_block\n",
    "                \n",
    "            # 调用\n",
    "            func_name()\n",
    "            \n",
    "            # 调用2\n",
    "            value1 = 100\n",
    "            value2 = 200\n",
    "            func_name(value1, value2)"
   ]
  },
  {
   "cell_type": "code",
   "execution_count": 39,
   "metadata": {},
   "outputs": [],
   "source": [
    "# 默认参数示例\n",
    "# 报名函数，需要知道学生性别\n",
    "#学习Python的学生基本都是男生，所以报名的时候如果没有特别制定，默认是男生\n",
    "def reg(name, age, gender = \"male\"):\n",
    "    if gender == \"male\":\n",
    "        print(\"{0} is {1}, and he is a good student\".format(name, age))\n",
    "    else:\n",
    "        print(\"{0} is {1}, and she is a good student\".format(name, age))"
   ]
  },
  {
   "cell_type": "code",
   "execution_count": 40,
   "metadata": {},
   "outputs": [
    {
     "name": "stdout",
     "output_type": "stream",
     "text": [
      "male is 22, and he is a good student\n",
      "female is 22, and she is a good student\n"
     ]
    }
   ],
   "source": [
    "# 调用默认参数函数案例1\n",
    "reg(\"male\", 22)\n",
    "\n",
    "reg(\"female\", 22, \"female\")"
   ]
  }
 ],
 "metadata": {
  "kernelspec": {
   "display_name": "Python 3",
   "language": "python",
   "name": "python3"
  },
  "language_info": {
   "codemirror_mode": {
    "name": "ipython",
    "version": 3
   },
   "file_extension": ".py",
   "mimetype": "text/x-python",
   "name": "python",
   "nbconvert_exporter": "python",
   "pygments_lexer": "ipython3",
   "version": "3.6.3"
  }
 },
 "nbformat": 4,
 "nbformat_minor": 2
}
