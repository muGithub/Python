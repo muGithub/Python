{
 "cells": [
  {
   "cell_type": "markdown",
   "metadata": {},
   "source": [
    "# 协程\n",
    "- 参考资料\n",
    "    - http://python.jobbole.com/86481\n",
    "    \n",
    "    \n",
    "# 迭代器\n",
    "- 可迭代（Iterable）：直接作用于for循环的变量\n",
    "- 迭代器（Iterator）：不但可以作用域for循环，还可以被next调用\n",
    "- list是典型的可迭代对象，但不是迭代器\n",
    "    - iterable和iterator可以转换- 通过iter函数"
   ]
  },
  {
   "cell_type": "code",
   "execution_count": 2,
   "metadata": {},
   "outputs": [
    {
     "name": "stdout",
     "output_type": "stream",
     "text": [
      "0\n",
      "1\n",
      "2\n",
      "3\n",
      "4\n",
      "5\n",
      "6\n",
      "7\n",
      "8\n",
      "9\n",
      "0\n",
      "1\n",
      "2\n",
      "3\n",
      "4\n"
     ]
    }
   ],
   "source": [
    "# 可迭代\n",
    "l= [i for i in range(10)]\n",
    "\n",
    "# l 是可迭代的但不是迭代器\n",
    "for idx in l:\n",
    "    print(idx)\n",
    "    \n",
    "# 迭代器\n",
    "for i in range(5):\n",
    "    print(i)"
   ]
  },
  {
   "cell_type": "code",
   "execution_count": 1,
   "metadata": {},
   "outputs": [
    {
     "name": "stdout",
     "output_type": "stream",
     "text": [
      "True\n",
      "False\n"
     ]
    }
   ],
   "source": [
    "# isinstance 示例\n",
    "# 判断某个变量是否是一个实例\n",
    "\n",
    "# 判断是否可迭代\n",
    "from collections import Iterable\n",
    "ll = [1,2,3,4,5]\n",
    "print(isinstance(ll, Iterable))\n",
    "\n",
    "from collections import Iterator\n",
    "print(isinstance(ll, Iterator))"
   ]
  },
  {
   "cell_type": "code",
   "execution_count": 3,
   "metadata": {},
   "outputs": [
    {
     "name": "stdout",
     "output_type": "stream",
     "text": [
      "True\n",
      "False\n",
      "True\n",
      "True\n"
     ]
    }
   ],
   "source": [
    "# iter函数\n",
    "\n",
    "s = 'i ove xiawn'\n",
    "\n",
    "print(isinstance(s, Iterable))\n",
    "print(isinstance(s, Iterator))\n",
    "\n",
    "l = iter(s)\n",
    "print(isinstance(l, Iterable))\n",
    "print(isinstance(l, Iterator))\n"
   ]
  },
  {
   "cell_type": "markdown",
   "metadata": {},
   "source": [
    "# 生成器\n",
    "- generator：一边循环一边计算下一个元素的机制/算法\n",
    "- 需要满足三个条件：\n",
    "    - 每次调用都能生产商for循环需要的下一个元素或者\n",
    "    - 如果达到最后一个，给出StopIteration异常\n",
    "    - 可以被next函数滴啊用\n",
    "- 如何生成一个生成器\n",
    "    - 直接使用\n",
    "    - 如果韩注重包含yield，则这个函数就叫生成器\n",
    "    - next调用函数，遇到yield返回\n",
    "    "
   ]
  },
  {
   "cell_type": "code",
   "execution_count": 4,
   "metadata": {},
   "outputs": [
    {
     "name": "stdout",
     "output_type": "stream",
     "text": [
      "<class 'list'>\n",
      "<class 'generator'>\n"
     ]
    }
   ],
   "source": [
    "# 直接使用生成器\n",
    "\n",
    "L = [x*x for x in range(5)] # 放在中括号里是列表生成器\n",
    "g = (x*x for x in range(5)) # 放在小括号中就是生成器\n",
    "\n",
    "print(type(L))\n",
    "print(type(g))"
   ]
  },
  {
   "cell_type": "code",
   "execution_count": 5,
   "metadata": {},
   "outputs": [
    {
     "name": "stdout",
     "output_type": "stream",
     "text": [
      "Step 1\n",
      "Step 2\n",
      "Step 3\n"
     ]
    }
   ],
   "source": [
    "# 函数示例\n",
    "def odd():\n",
    "    print(\"Step 1\")\n",
    "    print(\"Step 2\")\n",
    "    print(\"Step 3\")\n",
    "    return None\n",
    "\n",
    "odd()"
   ]
  },
  {
   "cell_type": "code",
   "execution_count": 11,
   "metadata": {},
   "outputs": [
    {
     "name": "stdout",
     "output_type": "stream",
     "text": [
      "Step 1\n",
      "1\n",
      "Step 2\n",
      "2\n",
      "Step 3\n",
      "3\n"
     ]
    }
   ],
   "source": [
    "# 生成器的示例\n",
    "# 函数odd中，yield负责返回\n",
    "def odd():\n",
    "    print(\"Step 1\")\n",
    "    yield 1\n",
    "    print(\"Step 2\")\n",
    "    yield 2\n",
    "    print(\"Step 3\")\n",
    "    yield 3\n",
    "\n",
    "# odd() 是调用生成器\n",
    "g = odd()\n",
    "one = next(g)\n",
    "print(one)\n",
    "two = next(g)\n",
    "print(two)\n",
    "three = next(g)\n",
    "print(three)"
   ]
  },
  {
   "cell_type": "code",
   "execution_count": 15,
   "metadata": {},
   "outputs": [
    {
     "name": "stdout",
     "output_type": "stream",
     "text": [
      "1\n",
      "1\n",
      "2\n",
      "3\n",
      "5\n"
     ]
    },
    {
     "data": {
      "text/plain": [
       "'Done'"
      ]
     },
     "execution_count": 15,
     "metadata": {},
     "output_type": "execute_result"
    }
   ],
   "source": [
    "# for 循环调用生成器\n",
    "def fib(max):\n",
    "    n, a, b = 0,0,1 # 注意写法\n",
    "    while n < max:\n",
    "        print(b)\n",
    "        a,b = b, a+b # 注意写法\n",
    "        n += 1\n",
    "        \n",
    "    return \"Done\"\n",
    "fib(5)"
   ]
  },
  {
   "cell_type": "code",
   "execution_count": 16,
   "metadata": {},
   "outputs": [
    {
     "name": "stdout",
     "output_type": "stream",
     "text": [
      "1\n",
      "1\n",
      "2\n",
      "3\n",
      "5\n"
     ]
    },
    {
     "ename": "StopIteration",
     "evalue": "Done",
     "output_type": "error",
     "traceback": [
      "\u001b[0;31m---------------------------------------------------------------------------\u001b[0m",
      "\u001b[0;31mStopIteration\u001b[0m                             Traceback (most recent call last)",
      "\u001b[0;32m<ipython-input-16-c07d64043c8a>\u001b[0m in \u001b[0;36m<module>\u001b[0;34m()\u001b[0m\n\u001b[1;32m     11\u001b[0m \u001b[0mg\u001b[0m \u001b[0;34m=\u001b[0m \u001b[0mfib\u001b[0m\u001b[0;34m(\u001b[0m\u001b[0;36m5\u001b[0m\u001b[0;34m)\u001b[0m\u001b[0;34m\u001b[0m\u001b[0m\n\u001b[1;32m     12\u001b[0m \u001b[0;32mfor\u001b[0m \u001b[0mi\u001b[0m \u001b[0;32min\u001b[0m \u001b[0mrange\u001b[0m\u001b[0;34m(\u001b[0m\u001b[0;36m6\u001b[0m\u001b[0;34m)\u001b[0m\u001b[0;34m:\u001b[0m\u001b[0;34m\u001b[0m\u001b[0m\n\u001b[0;32m---> 13\u001b[0;31m     \u001b[0mrst\u001b[0m \u001b[0;34m=\u001b[0m \u001b[0mnext\u001b[0m\u001b[0;34m(\u001b[0m\u001b[0mg\u001b[0m\u001b[0;34m)\u001b[0m\u001b[0;34m\u001b[0m\u001b[0m\n\u001b[0m\u001b[1;32m     14\u001b[0m     \u001b[0mprint\u001b[0m\u001b[0;34m(\u001b[0m\u001b[0mrst\u001b[0m\u001b[0;34m)\u001b[0m\u001b[0;34m\u001b[0m\u001b[0m\n",
      "\u001b[0;31mStopIteration\u001b[0m: Done"
     ]
    }
   ],
   "source": [
    "# for 循环调用生成器\n",
    "# 斐波那契数列的生成器写法\n",
    "def fib(max):\n",
    "    n, a, b = 0,0,1 # 注意写法\n",
    "    while n < max:\n",
    "        yield b\n",
    "        a,b = b, a+b # 注意写法\n",
    "        n += 1\n",
    "        \n",
    "    # 需要注意，爆出异常的结果返回值是return的返回值\n",
    "    return \"Done\"\n",
    "\n",
    "g = fib(5)\n",
    "for i in range(6):\n",
    "    rst = next(g)\n",
    "    print(rst)"
   ]
  },
  {
   "cell_type": "markdown",
   "metadata": {},
   "source": [
    "# 协程\n",
    "- 历史历程\n",
    "    - 3.4引入协程，用yield实现\n",
    "    - 3.5引入协程语法\n",
    "    - 实现的协程比较好的包有asyncio，tornado，gevent\n",
    "- 定义：协程是为非抢占式多任务产生子程序的计算机程序组件，协程允许不同入口点在不同位置暂停或开始执行程序\n",
    "- 从技术角度讲，协程就是一个你可以暂停执行的函数，或者干脆把携程理解成生成器\n",
    "- 协程的实现：\n",
    "    - yield返回\n",
    "    - send调用\n",
    "- 协程的四个状态\n",
    "    - inspect....\n",
    "    - \n",
    "    - \n",
    "    - \n",
    "    \n",
    "    - 代码示例v2\n",
    "- 协程终止\n",
    "    - 协程中未处理的异常会向上冒泡，传给next函数韩或者send方法的调用方（即触发携程的对象）\n",
    "    - 止协程的一种方式：发送某个少复制，让协程退出，内置的None和Ellipsis等常量经常做哨符值\n",
    "    \n",
    "- yield from\n",
    "    - 调用协程为了得到返回值，携程必须正常终止\n",
    "    - 生成器正常终止会爆发出StopIteration异常，异常的value属性保存返回值\n",
    "    - yield from从内部捕获StopIteration异常\n",
    "    - 示例v03\n",
    "    - 委派生成器\n",
    "        - 包含yield from表达式的生成器函数\n",
    "        - 委派生成器在yield from表达式出暂停，调用方式直接把数据发给子生成器\n",
    "        - 子生成器再把产出的值发给调用方\n",
    "        - 子生成器在最后，解释器会抛出StopIteration，并且把返回值附加到调用方\n",
    "        - 示例v04"
   ]
  },
  {
   "cell_type": "code",
   "execution_count": 19,
   "metadata": {},
   "outputs": [
    {
     "name": "stdout",
     "output_type": "stream",
     "text": [
      "111\n",
      "->start\n",
      "222\n",
      "->received zhexiao\n"
     ]
    },
    {
     "ename": "StopIteration",
     "evalue": "",
     "output_type": "error",
     "traceback": [
      "\u001b[0;31m---------------------------------------------------------------------------\u001b[0m",
      "\u001b[0;31mStopIteration\u001b[0m                             Traceback (most recent call last)",
      "\u001b[0;32m<ipython-input-19-85169b520fff>\u001b[0m in \u001b[0;36m<module>\u001b[0;34m()\u001b[0m\n\u001b[1;32m     12\u001b[0m \u001b[0;34m\u001b[0m\u001b[0m\n\u001b[1;32m     13\u001b[0m \u001b[0mprint\u001b[0m\u001b[0;34m(\u001b[0m\u001b[0;36m222\u001b[0m\u001b[0;34m)\u001b[0m\u001b[0;34m\u001b[0m\u001b[0m\n\u001b[0;32m---> 14\u001b[0;31m \u001b[0msc\u001b[0m\u001b[0;34m.\u001b[0m\u001b[0msend\u001b[0m\u001b[0;34m(\u001b[0m\u001b[0;34m'zhexiao'\u001b[0m\u001b[0;34m)\u001b[0m\u001b[0;34m\u001b[0m\u001b[0m\n\u001b[0m",
      "\u001b[0;31mStopIteration\u001b[0m: "
     ]
    }
   ],
   "source": [
    "# 协程代码示例1\n",
    "def simple_coroutine():\n",
    "    print('->start')\n",
    "    x = yield\n",
    "    print('->received', x)\n",
    "    \n",
    "# 主线程\n",
    "sc = simple_coroutine()\n",
    "print(111)\n",
    "# 可以使用sc.send(None),效果一样\n",
    "next(sc) # 预激\n",
    "\n",
    "print(222)\n",
    "sc.send('zhexiao')"
   ]
  },
  {
   "cell_type": "code",
   "execution_count": 37,
   "metadata": {},
   "outputs": [
    {
     "name": "stdout",
     "output_type": "stream",
     "text": [
      "->start\n",
      "5\n",
      "->received 5 6\n",
      "11\n",
      "->received 5 6 7\n"
     ]
    },
    {
     "ename": "StopIteration",
     "evalue": "",
     "output_type": "error",
     "traceback": [
      "\u001b[0;31m---------------------------------------------------------------------------\u001b[0m",
      "\u001b[0;31mStopIteration\u001b[0m                             Traceback (most recent call last)",
      "\u001b[0;32m<ipython-input-37-ae10e91b4fec>\u001b[0m in \u001b[0;36m<module>\u001b[0;34m()\u001b[0m\n\u001b[1;32m     16\u001b[0m \u001b[0mbb\u001b[0m \u001b[0;34m=\u001b[0m \u001b[0msc\u001b[0m\u001b[0;34m.\u001b[0m\u001b[0msend\u001b[0m\u001b[0;34m(\u001b[0m\u001b[0;36m6\u001b[0m\u001b[0;34m)\u001b[0m\u001b[0;34m\u001b[0m\u001b[0m\n\u001b[1;32m     17\u001b[0m \u001b[0mprint\u001b[0m\u001b[0;34m(\u001b[0m\u001b[0mbb\u001b[0m\u001b[0;34m)\u001b[0m\u001b[0;34m\u001b[0m\u001b[0m\n\u001b[0;32m---> 18\u001b[0;31m \u001b[0mcc\u001b[0m \u001b[0;34m=\u001b[0m \u001b[0msc\u001b[0m\u001b[0;34m.\u001b[0m\u001b[0msend\u001b[0m\u001b[0;34m(\u001b[0m\u001b[0;36m7\u001b[0m\u001b[0;34m)\u001b[0m\u001b[0;34m\u001b[0m\u001b[0m\n\u001b[0m\u001b[1;32m     19\u001b[0m \u001b[0mprint\u001b[0m\u001b[0;34m(\u001b[0m\u001b[0mcc\u001b[0m\u001b[0;34m)\u001b[0m\u001b[0;34m\u001b[0m\u001b[0m\n",
      "\u001b[0;31mStopIteration\u001b[0m: "
     ]
    }
   ],
   "source": [
    "# 示例v2 协程的状态\n",
    "\n",
    "def simple_coroutine(a):\n",
    "    print('->start')\n",
    "    b = yield a\n",
    "    print('->received', a, b)\n",
    "    c = yield a+b\n",
    "    print('->received', a, b, c)\n",
    "    \n",
    "    \n",
    "# run c\n",
    "sc = simple_coroutine(5)\n",
    "\n",
    "aa = next(sc)\n",
    "print(aa)\n",
    "bb = sc.send(6)\n",
    "print(bb)\n",
    "cc = sc.send(7)\n",
    "print(cc)"
   ]
  },
  {
   "cell_type": "code",
   "execution_count": 43,
   "metadata": {},
   "outputs": [
    {
     "name": "stdout",
     "output_type": "stream",
     "text": [
      "['A', 'B']\n",
      "A\n",
      "['A', 'B']\n"
     ]
    }
   ],
   "source": [
    "# 示例v03\n",
    "\n",
    "def gen():\n",
    "    for c in'AB':\n",
    "        yield c\n",
    "    \n",
    "# list直接用生成器作为参数\n",
    "print(list(gen()))\n",
    "g = next(gen())\n",
    "print(g)\n",
    "\n",
    "def gen_new():\n",
    "    yield from 'AB'\n",
    "        \n",
    "print(list(gen_new()))"
   ]
  },
  {
   "cell_type": "code",
   "execution_count": 46,
   "metadata": {},
   "outputs": [
    {
     "name": "stdout",
     "output_type": "stream",
     "text": [
      "{'boy_2': Res(count=8, average=74.725), 'boy_1': Res(count=10, average=114.3)}\n"
     ]
    }
   ],
   "source": [
    "# 示例v04，委派生成器\n",
    "from collections import namedtuple\n",
    "\n",
    "'''\n",
    "解释：\n",
    "1.外层for循环每次迭代会新建一个grouper示例，赋值给coroutine变量\n",
    "2.调用next（coroutine），预激为派生成器grouper，此时进入while True循环，调用子生成器\n",
    "3.内层for循环调用coroutine.send(value)，直接把值传给子生成器averager。\n",
    "4.内层循环结束后，grouper实例依旧在yield from表达式处暂停，\n",
    "5.coroutine.send(None)终止averager子生成器，子生成器抛出StopIteration异常并\n",
    "'''\n",
    "\n",
    "ResClass = namedtuple('Res', 'count average')\n",
    "\n",
    "# 子生成器\n",
    "def averager():\n",
    "    total = 0.0\n",
    "    count = 0\n",
    "    average = None\n",
    "    \n",
    "    while True:\n",
    "        term = yield\n",
    "        # None 是哨兵值\n",
    "        if term is None:\n",
    "            break\n",
    "        total += term\n",
    "        count += 1\n",
    "        average = total/count\n",
    "        \n",
    "    return ResClass(count, average)\n",
    "\n",
    "# 委派生成器\n",
    "def grouper(storages, key):\n",
    "    while True:\n",
    "        # 获取averager（）返回中的值\n",
    "        storages[key] = yield from averager()\n",
    "        \n",
    "# 客户端代码\n",
    "def client():\n",
    "    process_data = {\n",
    "        'boy_2':[39.0, 40.8, 33, 256, 123, 25, 36, 45],\n",
    "        'boy_1':[6, 58, 69, 745, 23, 1,69, 33, 65, 74]\n",
    "    }\n",
    "    \n",
    "    storages = {}\n",
    "    for k,v in process_data.items():\n",
    "        # 获取协程\n",
    "        coroutine = grouper(storages, k)\n",
    "        \n",
    "        # 预激协程\n",
    "        next(coroutine)\n",
    "        \n",
    "        # 发送数据到协程\n",
    "        for dt in v:\n",
    "            coroutine.send(dt)\n",
    "            \n",
    "        # 终止协程\n",
    "        coroutine.send(None)\n",
    "    print(storages)\n",
    "    \n",
    "# run\n",
    "client()"
   ]
  },
  {
   "cell_type": "markdown",
   "metadata": {
    "collapsed": true
   },
   "source": [
    "# 还剩下的内容\n",
    "- xml, json\n",
    "- re, xpath\n",
    "- 网络编程：socket， ftp mail\n",
    "- http协议， ==> http web server小项目\n",
    "- djiango，尽可能详细\n",
    "\n",
    "# 习题课\n",
    "-- 爬虫"
   ]
  },
  {
   "cell_type": "markdown",
   "metadata": {},
   "source": [
    "# asyncio\n",
    "- Python3.4 开始引入标准库当中，内置对异步io的支持\n",
    "- asyncio本身是一个消息循环\n",
    "- 步骤：\n",
    "    - 创建消息循环\n",
    "    - 把协程导入\n",
    "    - 关闭"
   ]
  },
  {
   "cell_type": "code",
   "execution_count": 1,
   "metadata": {},
   "outputs": [
    {
     "name": "stdout",
     "output_type": "stream",
     "text": [
      "Hello World (<_MainThread(MainThread, started 139632604608256)>)\n",
      "Start........(<_MainThread(MainThread, started 139632604608256)>)\n",
      "Hello World (<_MainThread(MainThread, started 139632604608256)>)\n",
      "Start........(<_MainThread(MainThread, started 139632604608256)>)\n",
      "Done........... (<_MainThread(MainThread, started 139632604608256)>)\n",
      "Hello again.......(<_MainThread(MainThread, started 139632604608256)>)\n",
      "Done........... (<_MainThread(MainThread, started 139632604608256)>)\n",
      "Hello again.......(<_MainThread(MainThread, started 139632604608256)>)\n"
     ]
    }
   ],
   "source": [
    "import threading\n",
    "# 引入异步io包\n",
    "import asyncio\n",
    "\n",
    "# 使用协程\n",
    "@asyncio.coroutine\n",
    "def hello():\n",
    "    print('Hello World (%s)'%threading.currentThread())\n",
    "    print(\"Start........(%s)\"% threading.currentThread())\n",
    "    yield from asyncio.sleep(5)\n",
    "    print('Done........... (%s)'%threading.currentThread())\n",
    "    print(\"Hello again.......(%s)\"% threading.currentThread())\n",
    "\n",
    "# 启动消息循环\n",
    "loop = asyncio.get_event_loop()\n",
    "# 定义任务\n",
    "tasks = [hello(), hello()]\n",
    "# asyncio使用wait等待task执行完毕\n",
    "loop.run_until_complete(asyncio.wait(tasks))\n",
    "# 关闭消息循环\n",
    "loop.close()\n"
   ]
  },
  {
   "cell_type": "code",
   "execution_count": 1,
   "metadata": {},
   "outputs": [
    {
     "name": "stdout",
     "output_type": "stream",
     "text": [
      "wget www.sina.com.cn...\n",
      "wget www.sohu.com...\n",
      "wget www.163.com...\n",
      "www.sina.com.cn header > HTTP/1.1 400 Bad Request\r\n",
      "\n",
      "www.sina.com.cn header > Server: nginx\r\n",
      "\n",
      "www.sina.com.cn header > Date: Sat, 24 Nov 2018 03:51:37 GMT\r\n",
      "\n",
      "www.sina.com.cn header > Content-Type: text/html\r\n",
      "\n",
      "www.sina.com.cn header > Content-Length: 166\r\n",
      "\n",
      "www.sina.com.cn header > Connection: close\r\n",
      "\n",
      "www.sina.com.cn header > X-Via-CDN: f=edge,s=ctc.xian.ha2ts4.87.nb.sinaedge.com,c=1.85.38.24;\r\n",
      "\n",
      "www.sohu.com header > HTTP/1.1 400 Bad Request\r\n",
      "\n",
      "www.sohu.com header > Server: nginx\r\n",
      "\n",
      "www.sohu.com header > Date: Sat, 24 Nov 2018 03:51:37 GMT\r\n",
      "\n",
      "www.sohu.com header > Content-Type: text/html\r\n",
      "\n",
      "www.sohu.com header > Content-Length: 166\r\n",
      "\n",
      "www.sohu.com header > Connection: close\r\n",
      "\n",
      "www.163.com header > HTTP/1.0 400 Bad request\r\n",
      "\n",
      "www.163.com header > Cache-Control: no-cache\r\n",
      "\n",
      "www.163.com header > Connection: close\r\n",
      "\n",
      "www.163.com header > Content-Type: text/html\r\n",
      "\n"
     ]
    }
   ],
   "source": [
    "# 引入异步io包\n",
    "import asyncio\n",
    "\n",
    "# 使用协程\n",
    "@asyncio.coroutine\n",
    "def wget(host):\n",
    "    print(\"wget %s...\"% host)\n",
    "    # 异步请求网络地址\n",
    "    connect = asyncio.open_connection(host, 80)\n",
    "    # 注意yieldfrom的用法\n",
    "    reader, writer = yield from connect\n",
    "    header = 'GET/HTTP/1.0\\r\\nHost: %s /r/n/r/n'%host\n",
    "    writer.write(header.encode('utf-8'))\n",
    "    yield from writer.drain()\n",
    "    while True:\n",
    "        line = yield from reader.readline()\n",
    "        # http协议的换行使用\\r\\n\n",
    "        if line == b'\\r\\n':\n",
    "            break\n",
    "        print('%s header > %s' %(host, line.decode('utf-8'.rstrip())))\n",
    "    # Ignore the body, close the socket\n",
    "    writer.close()\n",
    "    \n",
    "\n",
    "        \n",
    "# 启动消息循环\n",
    "loop = asyncio.get_event_loop()\n",
    "# 定义任务\n",
    "tasks = [wget(host) for host in ['www.sina.com.cn','www.sohu.com','www.163.com']]\n",
    "# asyncio使用wait等待task执行完毕\n",
    "loop.run_until_complete(asyncio.wait(tasks))\n",
    "# 关闭消息循环\n",
    "loop.close()\n"
   ]
  },
  {
   "cell_type": "markdown",
   "metadata": {
    "collapsed": true
   },
   "source": [
    "# async and await\n",
    "- 为了更好的表示异步io\n",
    "- Python3.5引用\n",
    "- 让协程代码更简洁\n",
    "- 使用上，可以简单的进行替换\n",
    "    - 用async替换@asyncio.coroutine\n",
    "    - await 替换 yield from"
   ]
  },
  {
   "cell_type": "code",
   "execution_count": 1,
   "metadata": {},
   "outputs": [
    {
     "name": "stdout",
     "output_type": "stream",
     "text": [
      "Hello World (<_MainThread(MainThread, started 140075641386752)>)\n",
      "Start........(<_MainThread(MainThread, started 140075641386752)>)\n",
      "Hello World (<_MainThread(MainThread, started 140075641386752)>)\n",
      "Start........(<_MainThread(MainThread, started 140075641386752)>)\n",
      "Done........... (<_MainThread(MainThread, started 140075641386752)>)\n",
      "Hello again.......(<_MainThread(MainThread, started 140075641386752)>)\n",
      "Done........... (<_MainThread(MainThread, started 140075641386752)>)\n",
      "Hello again.......(<_MainThread(MainThread, started 140075641386752)>)\n"
     ]
    }
   ],
   "source": [
    "import threading\n",
    "# 引入异步io包\n",
    "import asyncio\n",
    "\n",
    "# 使用协程\n",
    "#@asyncio.coroutine\n",
    "async def hello():\n",
    "    print('Hello World (%s)'%threading.currentThread())\n",
    "    print(\"Start........(%s)\"% threading.currentThread())\n",
    "    await asyncio.sleep(5)\n",
    "    print('Done........... (%s)'%threading.currentThread())\n",
    "    print(\"Hello again.......(%s)\"% threading.currentThread())\n",
    "\n",
    "# 启动消息循环\n",
    "loop = asyncio.get_event_loop()\n",
    "# 定义任务\n",
    "tasks = [hello(), hello()]\n",
    "# asyncio使用wait等待task执行完毕\n",
    "loop.run_until_complete(asyncio.wait(tasks))\n",
    "# 关闭消息循环\n",
    "loop.close()"
   ]
  },
  {
   "cell_type": "markdown",
   "metadata": {
    "collapsed": true
   },
   "source": [
    "# aiohttp\n",
    "- asyncio实现单线程的并发io，在客户端用处不大\n",
    "- 在服务器端可以asyncio+coroutine配合，因为http是操作\n",
    "- asyncio实现了tcp，udp，ssl等协议\n",
    "- aiohttp是基于asyncio实现的http框架\n",
    "- pip install aiohttp安装\n",
    "- "
   ]
  },
  {
   "cell_type": "code",
   "execution_count": null,
   "metadata": {},
   "outputs": [],
   "source": [
    "# aiohttp示例\n",
    "\n",
    "import asyncio\n",
    "from aiohttp import web\n",
    "\n",
    "async def index(request):\n",
    "    await asyncio.sliip(0.5)\n",
    "    return web.Response(body=b'<h1>Index</h1')\n",
    "\n",
    "async def hello(request):\n",
    "    await asyncio.sliip(0.5)\n",
    "    text = '<h1>hello, %s</h1>' % request.match_info['name']\n",
    "\n",
    "async def init(loop):\n",
    "    app = web.Application(loop=loop)\n",
    "    app.router.add_route('GET', '/', index)\n",
    "    app.router.add_route('GET', '/hello/{name}', hello)\n",
    "    srv = await loop.create_server(app.make_handler(), '127.0.0.1', 8000)\n",
    "    print('Server started at http://127.0.0.1:8000...')\n",
    "    return srv\n",
    "\n",
    "loop = asyncio.get_event_loop()\n",
    "loop.run_until_complete(init(loop))\n",
    "loop.run_forever()"
   ]
  },
  {
   "cell_type": "code",
   "execution_count": null,
   "metadata": {
    "collapsed": true
   },
   "outputs": [],
   "source": []
  }
 ],
 "metadata": {
  "kernelspec": {
   "display_name": "Python 3",
   "language": "python",
   "name": "python3"
  },
  "language_info": {
   "codemirror_mode": {
    "name": "ipython",
    "version": 3
   },
   "file_extension": ".py",
   "mimetype": "text/x-python",
   "name": "python",
   "nbconvert_exporter": "python",
   "pygments_lexer": "ipython3",
   "version": "3.6.3"
  }
 },
 "nbformat": 4,
 "nbformat_minor": 2
}
