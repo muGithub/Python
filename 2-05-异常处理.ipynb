{
 "cells": [
  {
   "cell_type": "markdown",
   "metadata": {},
   "source": [
    "# 异常\n",
    "* 广义上的错误分为错误和异常\n",
    "* 错误指的是可以人为避免\n",
    "* 异常是指在语法逻辑正确的前提下，出现的问题\n",
    "* 在Python里，异常是一个类，可以处理和使用\n",
    "\n",
    "# 异常的分类\n",
    "\n",
    "\n",
    "# 异常的处理\n",
    "* 不能保证程序永远正确运行\n",
    "* 但是，必须保证程序在最化的情况下得到的问题被妥善处理\n",
    "* Python的异常处理模块全部语法诶\n",
    "        try：\n",
    "        \n",
    "        except:异常类型\n",
    "        \n",
    "        except:\n",
    "        \n",
    "        except:\n",
    "        \n",
    "        ...\n",
    "        \n",
    "        else:没有任何异常，执行此代买\n",
    "        \n",
    "        finally:无论有无异常，都执行此代码\n",
    "        \n",
    "* 流程\n",
    "    * 1.执行try下面的语句\n",
    "    * 2.如果出现异常，则在except语句里查找对应异常并进行处理\n",
    "    * 3.如果没有出现异常，则执行else语句内容\n",
    "    * 4.最后，不管是否出现异常，都要执行finally语句\n",
    "* 出except（最少一个）以外，else和finally语句可选"
   ]
  },
  {
   "cell_type": "code",
   "execution_count": 1,
   "metadata": {},
   "outputs": [
    {
     "name": "stdout",
     "output_type": "stream",
     "text": [
      "Plz input yout number:10\n",
      " 计算结果是：10.0\n"
     ]
    }
   ],
   "source": [
    "# 简单异常示例\n",
    "try:\n",
    "    num = int(input(\"Plz input yout number:\"))\n",
    "    rst = 100/num\n",
    "    print(\" 计算结果是：{0}\".format(rst))\n",
    "except:\n",
    "    print(\"???\")\n",
    "    # exit是退出程序的意思\n",
    "    exit()"
   ]
  },
  {
   "cell_type": "code",
   "execution_count": 3,
   "metadata": {},
   "outputs": [
    {
     "name": "stdout",
     "output_type": "stream",
     "text": [
      "Plz input yout number:0\n",
      "???\n",
      "division by zero\n"
     ]
    }
   ],
   "source": [
    "# 简单异常示例\n",
    "# 给出提示信息\n",
    "try:\n",
    "    num = int(input(\"Plz input yout number:\"))\n",
    "    rst = 100/num\n",
    "    print(\" 计算结果是：{0}\".format(rst))\n",
    "# 捕获异常，把异常实例化，出错信息会在实例里\n",
    "# 注意以下写法\n",
    "# 以下语句是补货ZeroDivisionError异常并实例化示例e\n",
    "except ZeroDivisionError as e:\n",
    "    print(\"???\")\n",
    "    print(e)\n",
    "    # exit是退出程序的意思\n",
    "    exit()\n"
   ]
  },
  {
   "cell_type": "code",
   "execution_count": 4,
   "metadata": {},
   "outputs": [
    {
     "name": "stdout",
     "output_type": "stream",
     "text": [
      "Plz input yout number:dr\n",
      "Where is the mistakes?\n",
      "invalid literal for int() with base 10: 'dr'\n"
     ]
    }
   ],
   "source": [
    "# 简单异常示例\n",
    "# 给出提示信息\n",
    "try:\n",
    "    num = int(input(\"Plz input yout number:\"))\n",
    "    rst = 100/num\n",
    "    print(\" 计算结果是：{0}\".format(rst))\n",
    "# 如果是多种error的情况\n",
    "# 需要把越具体的错误，提前放\n",
    "# 在宜昌类继承关系中，越是子类的异常，与要往前方\n",
    "# 越是父类的异常，越往后放\n",
    "\n",
    "# 在处理异常的时候，点拦截到某一个异常，则不再继续往下查看，直接进行下一个\n",
    "# 到吗，基友finally则执行finally语句块，否则执行下一个大的语句块\n",
    "except ZeroDivisionError as e:\n",
    "    print(\"???\")\n",
    "    print(e)\n",
    "    # exit是退出程序的意思\n",
    "    exit()\n",
    "except NameError as e:\n",
    "    print(\"名字错了\")\n",
    "    print(e)\n",
    "except AttributeError as e:\n",
    "    print(\"属性有问题\")\n",
    "    print(e)\n",
    "    exit()\n",
    "    \n",
    "# 所有异常都是继承自Exception\n",
    "# 如果写上下面这句话，任何异常都会拦截住\n",
    "# 而且，下面这句话一定是最后一个exception\n",
    "except Exception as e:\n",
    "    print(\"Where is the mistakes?\")\n",
    "    print(e)\n",
    "    \n",
    "    "
   ]
  },
  {
   "cell_type": "markdown",
   "metadata": {},
   "source": [
    "# 用户手动引发异常\n",
    "- 当某些情况，用户希望自己印发一个异常的时候，可以使用\n",
    "- Raise 关键则来引发异常\n"
   ]
  },
  {
   "cell_type": "code",
   "execution_count": 6,
   "metadata": {},
   "outputs": [
    {
     "name": "stdout",
     "output_type": "stream",
     "text": [
      "I love xiawen\n",
      "3.1415926\n",
      "ValueError\n",
      "I'll be\n"
     ]
    }
   ],
   "source": [
    "# raise示例\n",
    "try:\n",
    "    print(\"I love xiawen\")\n",
    "    print(3.1415926)\n",
    "    # 手动引发一个异常\n",
    "    # 注意语法：raise ErrorClassName\n",
    "    raise ValueError\n",
    "    print(\"还没完\")\n",
    "except NameError as e:\n",
    "    print(\"NameError\")\n",
    "except ValueError as e:\n",
    "    print(\"ValueError\")\n",
    "except Exception as e:\n",
    "    print(\"我有异常\")\n",
    "    \n",
    "finally:\n",
    "    print(\"I'll be\")"
   ]
  },
  {
   "cell_type": "code",
   "execution_count": 10,
   "metadata": {},
   "outputs": [
    {
     "name": "stdout",
     "output_type": "stream",
     "text": [
      "I love xiawen\n",
      "3.1415926\n",
      "ValueError\n",
      "I'll be\n"
     ]
    }
   ],
   "source": [
    "# raise示例 2\n",
    "# 自己定义异常\n",
    "# 需要注意：自定义异常必须是系统异常的子类\n",
    "class DanaError(ValueError):\n",
    "    pass\n",
    "\n",
    "try:\n",
    "    print(\"I love xiawen\")\n",
    "    print(3.1415926)\n",
    "    # 手动引发一个异常\n",
    "    # 注意语法：raise ErrorClassName\n",
    "    raise DanaError\n",
    "    print(\"还没完\")\n",
    "    \n",
    "except DanaError as e:\n",
    "    print(\"Dana\")\n",
    "    \n",
    "except NameError as e:\n",
    "    print(\"NameError\")\n",
    "except ValueError as e:\n",
    "    print(\"ValueError\")\n",
    "except Exception as e:\n",
    "    print(\"我有异常\")\n",
    "    \n",
    "finally:\n",
    "    print(\"I'll be\")"
   ]
  },
  {
   "cell_type": "code",
   "execution_count": 14,
   "metadata": {},
   "outputs": [
    {
     "name": "stdout",
     "output_type": "stream",
     "text": [
      "Plz input yout number:da\n",
      "Exception\n",
      "I'll be\n"
     ]
    }
   ],
   "source": [
    "# else 语句示例\n",
    "try:\n",
    "    num = int(input(\"Plz input yout number:\"))\n",
    "    rst = 100/num\n",
    "    print(\" 计算结果是：{0}\".format(rst))\n",
    "except Exception as e:\n",
    "    print(\"Exception\")\n",
    "\n",
    "    \n",
    "else:\n",
    "    print(\"No Exception\")\n",
    "    \n",
    "finally:\n",
    "    print(\"I'll be\")"
   ]
  },
  {
   "cell_type": "markdown",
   "metadata": {},
   "source": [
    "# 关于自定义异常\n",
    "- 只要是raise异常，则推荐自定义异常\n",
    "- 在自定义异常的时候，一般包含一下异常\n",
    "    - 自定义发生异常的异常代码\n",
    "    - 自定义发生异常后的问题提示\n",
    "    - 自定义发生异常的行数\n",
    "- 最终的目睹是，一旦发生异常，方便程序员快速定位现场"
   ]
  },
  {
   "cell_type": "code",
   "execution_count": null,
   "metadata": {
    "collapsed": true
   },
   "outputs": [],
   "source": []
  },
  {
   "cell_type": "code",
   "execution_count": null,
   "metadata": {
    "collapsed": true
   },
   "outputs": [],
   "source": []
  },
  {
   "cell_type": "code",
   "execution_count": null,
   "metadata": {
    "collapsed": true
   },
   "outputs": [],
   "source": []
  },
  {
   "cell_type": "code",
   "execution_count": null,
   "metadata": {
    "collapsed": true
   },
   "outputs": [],
   "source": []
  },
  {
   "cell_type": "code",
   "execution_count": null,
   "metadata": {
    "collapsed": true
   },
   "outputs": [],
   "source": []
  },
  {
   "cell_type": "code",
   "execution_count": null,
   "metadata": {
    "collapsed": true
   },
   "outputs": [],
   "source": []
  },
  {
   "cell_type": "code",
   "execution_count": null,
   "metadata": {
    "collapsed": true
   },
   "outputs": [],
   "source": []
  }
 ],
 "metadata": {
  "kernelspec": {
   "display_name": "Python 3",
   "language": "python",
   "name": "python3"
  },
  "language_info": {
   "codemirror_mode": {
    "name": "ipython",
    "version": 3
   },
   "file_extension": ".py",
   "mimetype": "text/x-python",
   "name": "python",
   "nbconvert_exporter": "python",
   "pygments_lexer": "ipython3",
   "version": "3.6.3"
  }
 },
 "nbformat": 4,
 "nbformat_minor": 2
}
