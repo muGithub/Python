{
 "cells": [
  {
   "cell_type": "markdown",
   "metadata": {},
   "source": [
    "# 四类参数\n",
    "* 普通参数\n",
    "* 默认参数\n",
    "* 关键字参数\n",
    "* 收集参数\n",
    "\n",
    "## 关键字参数开始\n",
    "* 语法\n",
    "        def func(p1=v1, p2=v2，...)\n",
    "            func_body\n",
    "            \n",
    "        调用函数：\n",
    "        func(p1=value1, p2=value2,...)\n",
    "* 比较麻烦，但也有优点\n",
    "    * 不容易混淆，一般实参和形参只是按位置一一对应即可，容易出错\n",
    "    * 使用关键字参数，可以不考虑参数位置"
   ]
  },
  {
   "cell_type": "code",
   "execution_count": 4,
   "metadata": {},
   "outputs": [
    {
     "name": "stdout",
     "output_type": "stream",
     "text": [
      "I'm a student\n",
      "我叫18, 我今年jinjing岁， 我住我家\n",
      "I'm a student\n",
      "我叫jinjing, 我今年18岁， 我住我家\n"
     ]
    }
   ],
   "source": [
    "# 关键字参数\n",
    "def stu(name, age, addr):\n",
    "    print(\"I'm a student\")\n",
    "    print(\"我叫{0}, 我今年{1}岁， 我住{2}\".format(name, age, addr))\n",
    "    \n",
    "n = \"jinjing\"\n",
    "a = 18\n",
    "addr = \"我家\"\n",
    "\n",
    "# 普通参数只按照位置船体，容易出错\n",
    "stu(a, n, addr)\n",
    "\n",
    "\n",
    "def stu_key(name=\"No name\", age=0, addr=\"No addr\"):\n",
    "    print(\"I'm a student\")\n",
    "    print(\"我叫{0}, 我今年{1}岁， 我住{2}\".format(name, age, addr))\n",
    "    \n",
    "n = \"jinjing\"\n",
    "a = 18\n",
    "addr = \"我家\"\n",
    "\n",
    "# 普通参数只按照位置船体，容易出错\n",
    "stu_key(age=a, name=n, addr=addr)"
   ]
  },
  {
   "cell_type": "markdown",
   "metadata": {},
   "source": [
    "## 收集参数\n",
    "* 把没有位置，不能和定义时的参数位置相对应的参数，放入一个特定的数据结构中\n",
    "* 语法\n",
    "        def func(*args):\n",
    "            func_body\n",
    "            按照list使用方式访问args得到传入的参数\n",
    "            \n",
    "        调用：\n",
    "        func)p1, p2, p3, ...)\n",
    "* 参数名args不是必须这么写，但是，推荐直接用args，约定俗称\n",
    "* 参数名args前面需要有星号*\n",
    "* 收集参数可以和其他参数共存"
   ]
  },
  {
   "cell_type": "code",
   "execution_count": 5,
   "metadata": {},
   "outputs": [
    {
     "name": "stdout",
     "output_type": "stream",
     "text": [
      "Hello, nice to meet you!\n",
      "<class 'tuple'>\n",
      "Guoyoutian\n",
      "18\n",
      "Jiangxi\n",
      "178\n",
      "Hello, nice to meet you!\n",
      "<class 'tuple'>\n",
      "Xiawenjuan\n"
     ]
    }
   ],
   "source": [
    "# 收集参数代码\n",
    "# 函数模拟一个学生进行自我介绍，但具体内容不清楚\n",
    "# args把它看做一个列表list\n",
    "def stu( *args):\n",
    "    print(\"Hello, nice to meet you!\")\n",
    "    # type函数作用是检测变量的类型\n",
    "    print(type(args))\n",
    "    for item in args:\n",
    "        print(item)\n",
    "        \n",
    "stu(\"Guoyoutian\", 18, \"Jiangxi\", \"178\")\n",
    "\n",
    "stu(\"Xiawenjuan\")\n"
   ]
  },
  {
   "cell_type": "code",
   "execution_count": 8,
   "metadata": {},
   "outputs": [
    {
     "name": "stdout",
     "output_type": "stream",
     "text": [
      "Hello, nice to meet you!\n",
      "<class 'tuple'>\n"
     ]
    }
   ],
   "source": [
    "# 收集参数示例\n",
    "# 说明收集参数可以不带任何实参调用，此时收集参数为空tuple\n",
    "stu()"
   ]
  },
  {
   "cell_type": "code",
   "execution_count": 9,
   "metadata": {},
   "outputs": [
    {
     "ename": "TypeError",
     "evalue": "stu() got an unexpected keyword argument 'name'",
     "output_type": "error",
     "traceback": [
      "\u001b[0;31m---------------------------------------------------------------------------\u001b[0m",
      "\u001b[0;31mTypeError\u001b[0m                                 Traceback (most recent call last)",
      "\u001b[0;32m<ipython-input-9-3524acce615e>\u001b[0m in \u001b[0;36m<module>\u001b[0;34m()\u001b[0m\n\u001b[1;32m      1\u001b[0m \u001b[0;31m# 如果使用关键字参数格式调用，会出现问题\u001b[0m\u001b[0;34m\u001b[0m\u001b[0;34m\u001b[0m\u001b[0m\n\u001b[0;32m----> 2\u001b[0;31m \u001b[0mstu\u001b[0m\u001b[0;34m(\u001b[0m\u001b[0mname\u001b[0m \u001b[0;34m=\u001b[0m \u001b[0;34m\"Guoyou\"\u001b[0m\u001b[0;34m)\u001b[0m\u001b[0;34m\u001b[0m\u001b[0m\n\u001b[0m",
      "\u001b[0;31mTypeError\u001b[0m: stu() got an unexpected keyword argument 'name'"
     ]
    }
   ],
   "source": [
    "# 如果使用关键字参数格式调用，会出现问题\n",
    "stu(name = \"Guoyou\")"
   ]
  },
  {
   "cell_type": "markdown",
   "metadata": {},
   "source": [
    "### 收集参数之关键字收集参数\n",
    "* 把关键字参数按照字典格式存入收集参数\n",
    "* 语法：\n",
    "        \n",
    "        def func( **kwargs)\n",
    "            func_body\n",
    "            \n",
    "        # 调用：\n",
    "        func(p1=v1, p2=v2, p3=v3, ...)\n",
    "        \n",
    "    * kwargs一般约定俗成\n",
    "    * 调用的时候，把多余的关键字参数放入kwargs\n",
    "    * 访问kwargs需要按字典格式访问\n",
    "    \n",
    "        "
   ]
  },
  {
   "cell_type": "code",
   "execution_count": 12,
   "metadata": {},
   "outputs": [
    {
     "name": "stdout",
     "output_type": "stream",
     "text": [
      "Hello, nice to meet you\n",
      "<class 'dict'>\n",
      "name ... Guoyou\n",
      "age ... 22\n",
      "addr ... Jiangxi\n",
      "********************\n",
      "Hello, nice to meet you\n",
      "<class 'dict'>\n",
      "name ... xiawenjuan\n"
     ]
    }
   ],
   "source": [
    "# 收集参数案例\n",
    "#自我介绍\n",
    "# 调用的时候需要使用关键字参数调用\n",
    "def stu( **kwargs):\n",
    "    # 在函数体内对于kwargs的使用不用带星号\n",
    "    print(\"Hello, nice to meet you\")\n",
    "    print(type(kwargs))\n",
    "    # 对于字典的访问，Python2和Python3有区别\n",
    "    for k,v in kwargs.items():\n",
    "        print(k, \"...\", v)\n",
    "\n",
    "stu(name=\"Guoyou\", age=22, addr=\"Jiangxi\")\n",
    "\n",
    "print(\"*\" * 20)\n",
    "\n",
    "stu(name=\"xiawenjuan\")"
   ]
  },
  {
   "cell_type": "code",
   "execution_count": 13,
   "metadata": {},
   "outputs": [
    {
     "name": "stdout",
     "output_type": "stream",
     "text": [
      "Hello, nice to meet you\n",
      "<class 'dict'>\n"
     ]
    }
   ],
   "source": [
    "# 收集参数为空示例\n",
    "stu()"
   ]
  },
  {
   "cell_type": "markdown",
   "metadata": {},
   "source": [
    "### 收集参数混合调用的顺序问题\n",
    "* 收集参数，关键字参数，普通参数可以混合使用\n",
    "* 使用规则：普通参数和关键字参数优先\n",
    "* 定义的时候一般按照：普通参数，关键字参数，收集参数tuple，收集参数dict\n"
   ]
  },
  {
   "cell_type": "code",
   "execution_count": 13,
   "metadata": {},
   "outputs": [
    {
     "name": "stdout",
     "output_type": "stream",
     "text": [
      "Hello\n",
      "I'm Youtian, I'm 22 old\n",
      "I haven't hobby\n",
      "********************\n",
      "####################\n",
      "Hello\n",
      "I'm Youtian, I'm 22 old\n",
      "My hobby is play basketball\n",
      "********************\n",
      "####################\n",
      "Hello\n",
      "I'm Youtian, I'm 22 old\n",
      "My hobby is play basketball\n",
      "********************\n",
      "xiawenjuan\n",
      "178\n",
      "####################\n",
      "hobby1 ... pingpong\n"
     ]
    }
   ],
   "source": [
    "# 收集参数混合调用示例\n",
    "# stu模拟一个学生的自我介绍\n",
    "def stu(name, age, *args, hobby=\"None\", **kwargs):\n",
    "    print(\"Hello\")\n",
    "    print(\"I'm {0}, I'm {1} old\".format(name, age))\n",
    "    if hobby == \"None\":\n",
    "        print(\"I haven't hobby\")\n",
    "    else:\n",
    "        print(\"My hobby is {0}\".format(hobby))\n",
    "        \n",
    "    print(\"*\" * 20)\n",
    "    \n",
    "    for i in args:\n",
    "        print(i)\n",
    "        \n",
    "    print(\"#\" * 20)\n",
    "    \n",
    "    for k, v in kwargs.items():\n",
    "        print(k, \"...\", v)\n",
    "        \n",
    "# 开始调用\n",
    "name = \"Youtian\"\n",
    "age = 22\n",
    "\n",
    "stu(name, age)\n",
    "\n",
    "stu(name, age, hobby=\"play basketball\")\n",
    "\n",
    "stu(name, age, \"xiawenjuan\", \"178\", hobby=\"play basketball\", hobby1=\"pingpong\")"
   ]
  },
  {
   "cell_type": "markdown",
   "metadata": {},
   "source": [
    "### 收集参数的解包问题\n",
    "* 把参数放入list中，直接把list/dict中的值放入收集参数中\n",
    "* 语法：参看示例"
   ]
  },
  {
   "cell_type": "code",
   "execution_count": 17,
   "metadata": {},
   "outputs": [
    {
     "name": "stdout",
     "output_type": "stream",
     "text": [
      "Hahaha\n",
      "<class 'list'>\n",
      "0\n",
      "['Youtian', 20, 'Wenjuan']\n",
      "Hahaha\n",
      "<class 'str'>\n",
      "0\n",
      "Youtian\n",
      "<class 'int'>\n",
      "1\n",
      "20\n",
      "<class 'str'>\n",
      "2\n",
      "Wenjuan\n"
     ]
    }
   ],
   "source": [
    "# 收集参数的解包问题\n",
    "\n",
    "def stu(*args):\n",
    "    print(\"Hahaha\")\n",
    "    # n 用来表示循环次数\n",
    "    # 主要用来调试\n",
    "    n = 0\n",
    "    for i in args:\n",
    "        print(type(i))\n",
    "        print(n)\n",
    "        n += 1\n",
    "        print(i)\n",
    "        \n",
    "# stu(\"Youtian\", \"Wenjuan\", 19, 200)\n",
    "\n",
    "l = list()\n",
    "l.append(\"Youtian\")\n",
    "l.append(20)\n",
    "l.append(\"Wenjuan\")\n",
    "stu(l)\n",
    "\n",
    "# 此时，args的表示形式是字典内一个list类型的元素，即 args = {[\"Youtian\", 20, \"Wenjuan\"],}\n",
    "# 很显然跟我们最初的想法相违背\n",
    "\n",
    "# 此时的调用，我们就需要解包符号，即调用的时候前面加一个星号\n",
    "\n",
    "stu( *l)"
   ]
  },
  {
   "cell_type": "markdown",
   "metadata": {},
   "source": [
    "## 同理，dict类型收集参数一样可以解包\n",
    "* 对dict类型进行解包\n",
    "* 需要用两个星号进行解包\n",
    "\n",
    "# 返回值\n",
    "* 函数和过程的区别\n",
    "    * 有无返回值\n",
    "* 需要用return显示返回内容\n",
    "* 如果没有返回，则默认返回None\n",
    "* 推荐写法，无论有无返回值，最后都要以return结束"
   ]
  },
  {
   "cell_type": "code",
   "execution_count": 19,
   "metadata": {},
   "outputs": [
    {
     "name": "stdout",
     "output_type": "stream",
     "text": [
      "有返回值\n",
      "1\n",
      "无返回值\n",
      "None\n"
     ]
    }
   ],
   "source": [
    "# 返回值示例\n",
    "\n",
    "def func_1():\n",
    "    print(\"有返回值\")\n",
    "    return 1\n",
    "\n",
    "def func_2():\n",
    "    print(\"无返回值\")\n",
    "    \n",
    "f1 = func_1()\n",
    "print(f1)\n",
    "f2 = func_2()\n",
    "print(f2)"
   ]
  },
  {
   "cell_type": "markdown",
   "metadata": {},
   "source": [
    "# 函数文档\n",
    "* 函数的文档的作用是对当前函数提供使用相关的参考信息\n",
    "* 文档的写法：\n",
    "    * 在函数内部开始的第一行使用三字符串定义字符（三个单引号）\n",
    "    * 一般具体有特定格式\n",
    "    * 参看示例\n",
    "* 文档查看\n",
    "    * 使用help函数，形式如： help(func)\n",
    "    * 使用__doc__，查看示例（注意，连续两个英文下划线）"
   ]
  },
  {
   "cell_type": "code",
   "execution_count": null,
   "metadata": {
    "collapsed": true
   },
   "outputs": [],
   "source": []
  },
  {
   "cell_type": "code",
   "execution_count": 27,
   "metadata": {
    "collapsed": true
   },
   "outputs": [],
   "source": [
    "# 文档示例\n",
    "# 函数stu是模拟一个学生的自我介绍的内容\n",
    "\n",
    "def stu(name, age, *args):\n",
    "    '''\n",
    "    这里是文档\n",
    "    第一行\n",
    "    第二行\n",
    "    '''\n",
    "    print(\"This is a documents\")\n",
    "    "
   ]
  },
  {
   "cell_type": "code",
   "execution_count": null,
   "metadata": {
    "collapsed": true
   },
   "outputs": [],
   "source": []
  },
  {
   "cell_type": "code",
   "execution_count": 28,
   "metadata": {},
   "outputs": [
    {
     "name": "stdout",
     "output_type": "stream",
     "text": [
      "Help on function stu in module __main__:\n",
      "\n",
      "stu(name, age, *args)\n",
      "    这里是文档\n",
      "    第一行\n",
      "    第二行\n",
      "\n"
     ]
    },
    {
     "data": {
      "text/plain": [
       "'\\n    这里是文档\\n    第一行\\n    第二行\\n    '"
      ]
     },
     "execution_count": 28,
     "metadata": {},
     "output_type": "execute_result"
    }
   ],
   "source": [
    "# 查看函数文档\n",
    "help(stu)\n",
    "stu.__doc__ "
   ]
  },
  {
   "cell_type": "code",
   "execution_count": 29,
   "metadata": {},
   "outputs": [
    {
     "name": "stdout",
     "output_type": "stream",
     "text": [
      "Help on function stu in module __main__:\n",
      "\n",
      "stu(name, age)\n",
      "    这里是文档的文字内容\n",
      "    :param name: 表示学生的姓名\n",
      "    :param age: 表示学生年龄\n",
      "    :return: 此函数没有返回值\n",
      "\n",
      "None\n",
      "********************\n",
      "\n",
      "    这里是文档的文字内容\n",
      "    :param name: 表示学生的姓名\n",
      "    :param age: 表示学生年龄\n",
      "    :return: 此函数没有返回值\n",
      "    \n"
     ]
    }
   ],
   "source": [
    "def stu(name, age):\n",
    "    '''\n",
    "    这里是文档的文字内容\n",
    "    :param name: 表示学生的姓名\n",
    "    :param age: 表示学生年龄\n",
    "    :return: 此函数没有返回值\n",
    "    '''\n",
    "    pass\n",
    "\n",
    "print(help(stu))\n",
    "\n",
    "print(\"*\" * 20)\n",
    "\n",
    "print(stu.__doc__)\n"
   ]
  }
 ],
 "metadata": {
  "kernelspec": {
   "display_name": "Python 3",
   "language": "python",
   "name": "python3"
  },
  "language_info": {
   "codemirror_mode": {
    "name": "ipython",
    "version": 3
   },
   "file_extension": ".py",
   "mimetype": "text/x-python",
   "name": "python",
   "nbconvert_exporter": "python",
   "pygments_lexer": "ipython3",
   "version": "3.6.3"
  }
 },
 "nbformat": 4,
 "nbformat_minor": 2
}
